{
 "cells": [
  {
   "cell_type": "markdown",
   "metadata": {},
   "source": [
    "# Eploration des données Building Performance Database"
   ]
  },
  {
   "cell_type": "code",
   "execution_count": 1,
   "metadata": {},
   "outputs": [],
   "source": [
    "import pandas as pd\n",
    "df = pd.read_csv(\"ny_ordnance_data.csv\", sep=\";\", encoding='iso-8859-1')"
   ]
  },
  {
   "cell_type": "markdown",
   "metadata": {},
   "source": [
    "### Calculs des valeurs centrales et dispersives"
   ]
  },
  {
   "cell_type": "markdown",
   "metadata": {},
   "source": [
    "Les 10 premières valeurs les plus fréquentes de Property Type :"
   ]
  },
  {
   "cell_type": "code",
   "execution_count": 2,
   "metadata": {},
   "outputs": [
    {
     "data": {
      "text/plain": [
       "Multifamily Housing           9559\n",
       "Office                        1548\n",
       "K-12 School                   1305\n",
       "Hotel                          275\n",
       "Non-Refrigerated Warehouse     227\n",
       "Other                          224\n",
       "College/University             198\n",
       "Senior Care Community          123\n",
       "Residence Hall/Dormitory       122\n",
       "Self-Storage Facility          113\n",
       "Name: Property Type, dtype: int64"
      ]
     },
     "execution_count": 2,
     "metadata": {},
     "output_type": "execute_result"
    }
   ],
   "source": [
    "df_pt = df['Property Type'].value_counts()\n",
    "df_pt.head(10)"
   ]
  },
  {
   "cell_type": "markdown",
   "metadata": {},
   "source": [
    "Concernant la surface du bâti :"
   ]
  },
  {
   "cell_type": "code",
   "execution_count": 3,
   "metadata": {},
   "outputs": [
    {
     "data": {
      "text/plain": [
       "168776.99063573882"
      ]
     },
     "execution_count": 3,
     "metadata": {},
     "output_type": "execute_result"
    }
   ],
   "source": [
    "df['Floor Area (ft^2)'].mean()"
   ]
  },
  {
   "cell_type": "code",
   "execution_count": 4,
   "metadata": {},
   "outputs": [
    {
     "data": {
      "text/plain": [
       "93180.0"
      ]
     },
     "execution_count": 4,
     "metadata": {},
     "output_type": "execute_result"
    }
   ],
   "source": [
    "df['Floor Area (ft^2)'].median()"
   ]
  },
  {
   "cell_type": "code",
   "execution_count": 5,
   "metadata": {},
   "outputs": [
    {
     "data": {
      "text/plain": [
       "50028.0"
      ]
     },
     "execution_count": 5,
     "metadata": {},
     "output_type": "execute_result"
    }
   ],
   "source": [
    "df['Floor Area (ft^2)'].min()"
   ]
  },
  {
   "cell_type": "code",
   "execution_count": 6,
   "metadata": {},
   "outputs": [
    {
     "data": {
      "text/plain": [
       "6940450.0"
      ]
     },
     "execution_count": 6,
     "metadata": {},
     "output_type": "execute_result"
    }
   ],
   "source": [
    "df['Floor Area (ft^2)'].max()"
   ]
  },
  {
   "cell_type": "markdown",
   "metadata": {},
   "source": [
    "Concernant l'année de construction du bâti :"
   ]
  },
  {
   "cell_type": "code",
   "execution_count": 7,
   "metadata": {},
   "outputs": [
    {
     "data": {
      "text/plain": [
       "1931.0    495\n",
       "1928.0    472\n",
       "1927.0    468\n",
       "1930.0    468\n",
       "1929.0    434\n",
       "1925.0    415\n",
       "1920.0    370\n",
       "1926.0    351\n",
       "1963.0    316\n",
       "1962.0    290\n",
       "Name: Year Built, dtype: int64"
      ]
     },
     "execution_count": 7,
     "metadata": {},
     "output_type": "execute_result"
    }
   ],
   "source": [
    "df_yb = df['Year Built'].value_counts()\n",
    "df_yb.head(10)"
   ]
  },
  {
   "cell_type": "code",
   "execution_count": 8,
   "metadata": {},
   "outputs": [
    {
     "data": {
      "text/plain": [
       "1600.0"
      ]
     },
     "execution_count": 8,
     "metadata": {},
     "output_type": "execute_result"
    }
   ],
   "source": [
    "df['Year Built'].min()"
   ]
  },
  {
   "cell_type": "code",
   "execution_count": 9,
   "metadata": {},
   "outputs": [
    {
     "data": {
      "text/plain": [
       "2017.0"
      ]
     },
     "execution_count": 9,
     "metadata": {},
     "output_type": "execute_result"
    }
   ],
   "source": [
    "df['Year Built'].max()"
   ]
  },
  {
   "cell_type": "code",
   "execution_count": 10,
   "metadata": {},
   "outputs": [
    {
     "data": {
      "text/plain": [
       "1945.0"
      ]
     },
     "execution_count": 10,
     "metadata": {},
     "output_type": "execute_result"
    }
   ],
   "source": [
    "df['Year Built'].median()"
   ]
  },
  {
   "cell_type": "markdown",
   "metadata": {},
   "source": [
    "Benchmarking Year :"
   ]
  },
  {
   "cell_type": "code",
   "execution_count": 11,
   "metadata": {},
   "outputs": [
    {
     "data": {
      "text/plain": [
       "2016    15118\n",
       "Name: Benchmarking Year, dtype: int64"
      ]
     },
     "execution_count": 11,
     "metadata": {},
     "output_type": "execute_result"
    }
   ],
   "source": [
    "df_by = df['Benchmarking Year'].value_counts()\n",
    "df_by.head(10)"
   ]
  },
  {
   "cell_type": "code",
   "execution_count": 12,
   "metadata": {},
   "outputs": [
    {
     "data": {
      "text/plain": [
       "2016"
      ]
     },
     "execution_count": 12,
     "metadata": {},
     "output_type": "execute_result"
    }
   ],
   "source": [
    "df['Benchmarking Year'].min()"
   ]
  },
  {
   "cell_type": "code",
   "execution_count": 13,
   "metadata": {},
   "outputs": [
    {
     "data": {
      "text/plain": [
       "2016"
      ]
     },
     "execution_count": 13,
     "metadata": {},
     "output_type": "execute_result"
    }
   ],
   "source": [
    "df['Benchmarking Year'].max()"
   ]
  },
  {
   "cell_type": "code",
   "execution_count": 14,
   "metadata": {},
   "outputs": [
    {
     "data": {
      "text/plain": [
       "2016.0"
      ]
     },
     "execution_count": 14,
     "metadata": {},
     "output_type": "execute_result"
    }
   ],
   "source": [
    "df['Benchmarking Year'].median()"
   ]
  },
  {
   "cell_type": "markdown",
   "metadata": {},
   "source": [
    "Concernant l'évaluation de la performance énergétique du bâti :"
   ]
  },
  {
   "cell_type": "code",
   "execution_count": 15,
   "metadata": {
    "scrolled": true
   },
   "outputs": [
    {
     "data": {
      "text/plain": [
       "100.0    779\n",
       "1.0      356\n",
       "99.0     228\n",
       "86.0     189\n",
       "84.0     183\n",
       "93.0     180\n",
       "87.0     177\n",
       "80.0     176\n",
       "88.0     176\n",
       "92.0     175\n",
       "Name: ENERGY STAR Score, dtype: int64"
      ]
     },
     "execution_count": 15,
     "metadata": {},
     "output_type": "execute_result"
    }
   ],
   "source": [
    "df_ess = df['ENERGY STAR Score'].value_counts()\n",
    "df_ess.head(10)"
   ]
  },
  {
   "cell_type": "code",
   "execution_count": 16,
   "metadata": {},
   "outputs": [
    {
     "data": {
      "text/plain": [
       "60.969649093630466"
      ]
     },
     "execution_count": 16,
     "metadata": {},
     "output_type": "execute_result"
    }
   ],
   "source": [
    "df['ENERGY STAR Score'].mean()"
   ]
  },
  {
   "cell_type": "code",
   "execution_count": 17,
   "metadata": {},
   "outputs": [
    {
     "data": {
      "text/plain": [
       "67.0"
      ]
     },
     "execution_count": 17,
     "metadata": {},
     "output_type": "execute_result"
    }
   ],
   "source": [
    "df['ENERGY STAR Score'].median()"
   ]
  },
  {
   "cell_type": "code",
   "execution_count": 18,
   "metadata": {},
   "outputs": [
    {
     "data": {
      "text/html": [
       "<div>\n",
       "<style scoped>\n",
       "    .dataframe tbody tr th:only-of-type {\n",
       "        vertical-align: middle;\n",
       "    }\n",
       "\n",
       "    .dataframe tbody tr th {\n",
       "        vertical-align: top;\n",
       "    }\n",
       "\n",
       "    .dataframe thead th {\n",
       "        text-align: right;\n",
       "    }\n",
       "</style>\n",
       "<table border=\"1\" class=\"dataframe\">\n",
       "  <thead>\n",
       "    <tr style=\"text-align: right;\">\n",
       "      <th></th>\n",
       "      <th>Property Name</th>\n",
       "      <th>Property Type</th>\n",
       "      <th>Address</th>\n",
       "      <th>City</th>\n",
       "      <th>County</th>\n",
       "      <th>State</th>\n",
       "      <th>ZIP Code</th>\n",
       "      <th>Latitude</th>\n",
       "      <th>Longitude</th>\n",
       "      <th>Floor Area (ft^2)</th>\n",
       "      <th>...</th>\n",
       "      <th>Indirect GHG Emissions (MtCO2e)</th>\n",
       "      <th>Total GHG Emissions (MtCO2e)</th>\n",
       "      <th>Water Use Intensity (gal/ft^2)</th>\n",
       "      <th>Property ID</th>\n",
       "      <th>Parent Property ID</th>\n",
       "      <th>Parent Property Name</th>\n",
       "      <th>BBL</th>\n",
       "      <th>BIN</th>\n",
       "      <th>Borough</th>\n",
       "      <th>Number of Buildings</th>\n",
       "    </tr>\n",
       "  </thead>\n",
       "  <tbody>\n",
       "    <tr>\n",
       "      <th>13</th>\n",
       "      <td>Cadman - 10 Clinton St</td>\n",
       "      <td>Multifamily Housing</td>\n",
       "      <td>10 CLINTON STREET</td>\n",
       "      <td>New York</td>\n",
       "      <td>Kings</td>\n",
       "      <td>NY</td>\n",
       "      <td>11201</td>\n",
       "      <td>NaN</td>\n",
       "      <td>NaN</td>\n",
       "      <td>212656.0</td>\n",
       "      <td>...</td>\n",
       "      <td>322.7</td>\n",
       "      <td>2846.8</td>\n",
       "      <td>NaN</td>\n",
       "      <td>5871253</td>\n",
       "      <td>2637863</td>\n",
       "      <td>Cadman Towers</td>\n",
       "      <td>3002380035</td>\n",
       "      <td>3319420</td>\n",
       "      <td>Brooklyn</td>\n",
       "      <td>1</td>\n",
       "    </tr>\n",
       "    <tr>\n",
       "      <th>30</th>\n",
       "      <td>Metro North - 420-440 East 102 St.</td>\n",
       "      <td>Multifamily Housing</td>\n",
       "      <td>455 EAST 102 STREET</td>\n",
       "      <td>New York</td>\n",
       "      <td>New York</td>\n",
       "      <td>NY</td>\n",
       "      <td>10029</td>\n",
       "      <td>NaN</td>\n",
       "      <td>NaN</td>\n",
       "      <td>175885.0</td>\n",
       "      <td>...</td>\n",
       "      <td>562.0</td>\n",
       "      <td>765.3</td>\n",
       "      <td>1.35</td>\n",
       "      <td>3111973</td>\n",
       "      <td>3111973</td>\n",
       "      <td>Metro North - 420-440 East 102 St.</td>\n",
       "      <td>1016940003</td>\n",
       "      <td>1083934</td>\n",
       "      <td>Manhattan</td>\n",
       "      <td>2</td>\n",
       "    </tr>\n",
       "    <tr>\n",
       "      <th>33</th>\n",
       "      <td>Benjamin: 209-30 86 Drive (Parent)</td>\n",
       "      <td>Multifamily Housing</td>\n",
       "      <td>210-10 GRND CNTRL PKWY SR E</td>\n",
       "      <td>New York</td>\n",
       "      <td>Queens</td>\n",
       "      <td>NY</td>\n",
       "      <td>11427</td>\n",
       "      <td>NaN</td>\n",
       "      <td>NaN</td>\n",
       "      <td>145056.0</td>\n",
       "      <td>...</td>\n",
       "      <td>606.1</td>\n",
       "      <td>787.9</td>\n",
       "      <td>NaN</td>\n",
       "      <td>3129231</td>\n",
       "      <td>3129231</td>\n",
       "      <td>Benjamin: 209-30 86 Drive (Parent)</td>\n",
       "      <td>4105920150</td>\n",
       "      <td>4434643;4434642;4434641;4434644</td>\n",
       "      <td>Queens</td>\n",
       "      <td>4</td>\n",
       "    </tr>\n",
       "    <tr>\n",
       "      <th>62</th>\n",
       "      <td>CEPSR Schapiro</td>\n",
       "      <td>Office</td>\n",
       "      <td>530 WEST 120 STREET</td>\n",
       "      <td>New York</td>\n",
       "      <td>New York</td>\n",
       "      <td>NY</td>\n",
       "      <td>10027</td>\n",
       "      <td>NaN</td>\n",
       "      <td>NaN</td>\n",
       "      <td>1368870.0</td>\n",
       "      <td>...</td>\n",
       "      <td>11584.8</td>\n",
       "      <td>52401.0</td>\n",
       "      <td>NaN</td>\n",
       "      <td>2658585</td>\n",
       "      <td>3612678</td>\n",
       "      <td>Columbia University (morningside)</td>\n",
       "      <td>1019730001</td>\n",
       "      <td>1084476</td>\n",
       "      <td>Manhattan</td>\n",
       "      <td>1</td>\n",
       "    </tr>\n",
       "    <tr>\n",
       "      <th>93</th>\n",
       "      <td>Irving Cancer Research Center</td>\n",
       "      <td>Office</td>\n",
       "      <td>1132 ST NICHOLAS AVENUE</td>\n",
       "      <td>New York</td>\n",
       "      <td>New York</td>\n",
       "      <td>NY</td>\n",
       "      <td>10032</td>\n",
       "      <td>NaN</td>\n",
       "      <td>NaN</td>\n",
       "      <td>286481.0</td>\n",
       "      <td>...</td>\n",
       "      <td>4579.0</td>\n",
       "      <td>7725.9</td>\n",
       "      <td>159.94</td>\n",
       "      <td>2363861</td>\n",
       "      <td>3614737</td>\n",
       "      <td>Columbia University Medical Center</td>\n",
       "      <td>1021240017</td>\n",
       "      <td>1062989</td>\n",
       "      <td>Manhattan</td>\n",
       "      <td>1</td>\n",
       "    </tr>\n",
       "  </tbody>\n",
       "</table>\n",
       "<p>5 rows × 29 columns</p>\n",
       "</div>"
      ],
      "text/plain": [
       "                         Property Name        Property Type  \\\n",
       "13              Cadman - 10 Clinton St  Multifamily Housing   \n",
       "30  Metro North - 420-440 East 102 St.  Multifamily Housing   \n",
       "33  Benjamin: 209-30 86 Drive (Parent)  Multifamily Housing   \n",
       "62                      CEPSR Schapiro               Office   \n",
       "93       Irving Cancer Research Center               Office   \n",
       "\n",
       "                        Address      City    County State  ZIP Code  Latitude  \\\n",
       "13            10 CLINTON STREET  New York     Kings    NY     11201       NaN   \n",
       "30          455 EAST 102 STREET  New York  New York    NY     10029       NaN   \n",
       "33  210-10 GRND CNTRL PKWY SR E  New York    Queens    NY     11427       NaN   \n",
       "62          530 WEST 120 STREET  New York  New York    NY     10027       NaN   \n",
       "93      1132 ST NICHOLAS AVENUE  New York  New York    NY     10032       NaN   \n",
       "\n",
       "    Longitude  Floor Area (ft^2)  ...  Indirect GHG Emissions (MtCO2e)  \\\n",
       "13        NaN           212656.0  ...                            322.7   \n",
       "30        NaN           175885.0  ...                            562.0   \n",
       "33        NaN           145056.0  ...                            606.1   \n",
       "62        NaN          1368870.0  ...                          11584.8   \n",
       "93        NaN           286481.0  ...                           4579.0   \n",
       "\n",
       "    Total GHG Emissions (MtCO2e)  Water Use Intensity (gal/ft^2)  Property ID  \\\n",
       "13                        2846.8                             NaN      5871253   \n",
       "30                         765.3                            1.35      3111973   \n",
       "33                         787.9                             NaN      3129231   \n",
       "62                       52401.0                             NaN      2658585   \n",
       "93                        7725.9                          159.94      2363861   \n",
       "\n",
       "    Parent Property ID                Parent Property Name         BBL  \\\n",
       "13             2637863                       Cadman Towers  3002380035   \n",
       "30             3111973  Metro North - 420-440 East 102 St.  1016940003   \n",
       "33             3129231  Benjamin: 209-30 86 Drive (Parent)  4105920150   \n",
       "62             3612678   Columbia University (morningside)  1019730001   \n",
       "93             3614737  Columbia University Medical Center  1021240017   \n",
       "\n",
       "                                BIN    Borough  Number of Buildings  \n",
       "13                          3319420   Brooklyn                    1  \n",
       "30                          1083934  Manhattan                    2  \n",
       "33  4434643;4434642;4434641;4434644     Queens                    4  \n",
       "62                          1084476  Manhattan                    1  \n",
       "93                          1062989  Manhattan                    1  \n",
       "\n",
       "[5 rows x 29 columns]"
      ]
     },
     "execution_count": 18,
     "metadata": {},
     "output_type": "execute_result"
    }
   ],
   "source": [
    "low_esc = df[df['ENERGY STAR Score']<50]\n",
    "low_esc.head(5)"
   ]
  },
  {
   "cell_type": "markdown",
   "metadata": {},
   "source": [
    "Concernant la consommation énergétique du bâti :"
   ]
  },
  {
   "cell_type": "code",
   "execution_count": 19,
   "metadata": {},
   "outputs": [
    {
     "data": {
      "text/plain": [
       "85.36729521492295"
      ]
     },
     "execution_count": 19,
     "metadata": {},
     "output_type": "execute_result"
    }
   ],
   "source": [
    "df['Site EUI (kBtu/ft^2)'].mean()"
   ]
  },
  {
   "cell_type": "code",
   "execution_count": 20,
   "metadata": {},
   "outputs": [
    {
     "data": {
      "text/plain": [
       "77.6"
      ]
     },
     "execution_count": 20,
     "metadata": {},
     "output_type": "execute_result"
    }
   ],
   "source": [
    "df['Site EUI (kBtu/ft^2)'].median()"
   ]
  },
  {
   "cell_type": "code",
   "execution_count": 21,
   "metadata": {},
   "outputs": [
    {
     "data": {
      "text/plain": [
       "992.6"
      ]
     },
     "execution_count": 21,
     "metadata": {},
     "output_type": "execute_result"
    }
   ],
   "source": [
    "df['Site EUI (kBtu/ft^2)'].max()"
   ]
  },
  {
   "cell_type": "code",
   "execution_count": 22,
   "metadata": {},
   "outputs": [
    {
     "data": {
      "text/plain": [
       "148.14116971702572"
      ]
     },
     "execution_count": 22,
     "metadata": {},
     "output_type": "execute_result"
    }
   ],
   "source": [
    "df['Source EUI (kBtu/ft^2)'].mean()"
   ]
  },
  {
   "cell_type": "code",
   "execution_count": 23,
   "metadata": {},
   "outputs": [
    {
     "data": {
      "text/plain": [
       "2594.5"
      ]
     },
     "execution_count": 23,
     "metadata": {},
     "output_type": "execute_result"
    }
   ],
   "source": [
    "df['Source EUI (kBtu/ft^2)'].max()"
   ]
  },
  {
   "cell_type": "markdown",
   "metadata": {},
   "source": [
    "Weather data :"
   ]
  },
  {
   "cell_type": "code",
   "execution_count": 24,
   "metadata": {},
   "outputs": [
    {
     "data": {
      "text/plain": [
       "89.3866501761487"
      ]
     },
     "execution_count": 24,
     "metadata": {},
     "output_type": "execute_result"
    }
   ],
   "source": [
    "df['Weather Normalized Site EUI (kBtu/ft^2)'].mean()"
   ]
  },
  {
   "cell_type": "code",
   "execution_count": 25,
   "metadata": {},
   "outputs": [
    {
     "data": {
      "text/plain": [
       "986.1"
      ]
     },
     "execution_count": 25,
     "metadata": {},
     "output_type": "execute_result"
    }
   ],
   "source": [
    "df['Weather Normalized Site EUI (kBtu/ft^2)'].max()"
   ]
  },
  {
   "cell_type": "code",
   "execution_count": 26,
   "metadata": {},
   "outputs": [
    {
     "data": {
      "text/plain": [
       "152.9892875870852"
      ]
     },
     "execution_count": 26,
     "metadata": {},
     "output_type": "execute_result"
    }
   ],
   "source": [
    "df['Weather Normalized Source EUI (kBtu/ft^2)'].mean()"
   ]
  },
  {
   "cell_type": "code",
   "execution_count": 27,
   "metadata": {},
   "outputs": [
    {
     "data": {
      "text/plain": [
       "3080.4"
      ]
     },
     "execution_count": 27,
     "metadata": {},
     "output_type": "execute_result"
    }
   ],
   "source": [
    "df['Weather Normalized Source EUI (kBtu/ft^2)'].max()"
   ]
  },
  {
   "cell_type": "markdown",
   "metadata": {},
   "source": [
    "Concernant les émission de GES :"
   ]
  },
  {
   "cell_type": "code",
   "execution_count": 28,
   "metadata": {},
   "outputs": [
    {
     "data": {
      "text/plain": [
       "469.10316147535514"
      ]
     },
     "execution_count": 28,
     "metadata": {},
     "output_type": "execute_result"
    }
   ],
   "source": [
    "df['Direct GHG Emissions (MtCO2e)'].mean()"
   ]
  },
  {
   "cell_type": "code",
   "execution_count": 29,
   "metadata": {},
   "outputs": [
    {
     "data": {
      "text/plain": [
       "86813.0"
      ]
     },
     "execution_count": 29,
     "metadata": {},
     "output_type": "execute_result"
    }
   ],
   "source": [
    "df['Direct GHG Emissions (MtCO2e)'].max()"
   ]
  },
  {
   "cell_type": "code",
   "execution_count": 30,
   "metadata": {},
   "outputs": [
    {
     "data": {
      "text/plain": [
       "585.8064613123079"
      ]
     },
     "execution_count": 30,
     "metadata": {},
     "output_type": "execute_result"
    }
   ],
   "source": [
    "df['Indirect GHG Emissions (MtCO2e)'].mean()"
   ]
  },
  {
   "cell_type": "code",
   "execution_count": 31,
   "metadata": {},
   "outputs": [
    {
     "data": {
      "text/plain": [
       "78476.9"
      ]
     },
     "execution_count": 31,
     "metadata": {},
     "output_type": "execute_result"
    }
   ],
   "source": [
    "df['Indirect GHG Emissions (MtCO2e)'].max()"
   ]
  },
  {
   "cell_type": "code",
   "execution_count": 32,
   "metadata": {},
   "outputs": [
    {
     "data": {
      "text/plain": [
       "1051.9175464385942"
      ]
     },
     "execution_count": 32,
     "metadata": {},
     "output_type": "execute_result"
    }
   ],
   "source": [
    "df['Total GHG Emissions (MtCO2e)'].mean()"
   ]
  },
  {
   "cell_type": "code",
   "execution_count": 33,
   "metadata": {},
   "outputs": [
    {
     "data": {
      "text/plain": [
       "86813.0"
      ]
     },
     "execution_count": 33,
     "metadata": {},
     "output_type": "execute_result"
    }
   ],
   "source": [
    "df['Total GHG Emissions (MtCO2e)'].max()"
   ]
  },
  {
   "cell_type": "markdown",
   "metadata": {},
   "source": [
    "Concernant la consommation en eau du bâti :"
   ]
  },
  {
   "cell_type": "code",
   "execution_count": 34,
   "metadata": {},
   "outputs": [
    {
     "data": {
      "text/plain": [
       "53.414285363457765"
      ]
     },
     "execution_count": 34,
     "metadata": {},
     "output_type": "execute_result"
    }
   ],
   "source": [
    "df['Water Use Intensity (gal/ft^2)'].mean()"
   ]
  },
  {
   "cell_type": "code",
   "execution_count": 35,
   "metadata": {},
   "outputs": [
    {
     "data": {
      "text/plain": [
       "491.18"
      ]
     },
     "execution_count": 35,
     "metadata": {},
     "output_type": "execute_result"
    }
   ],
   "source": [
    "df['Water Use Intensity (gal/ft^2)'].max()"
   ]
  }
 ],
 "metadata": {
  "kernelspec": {
   "display_name": "Python 3",
   "language": "python",
   "name": "python3"
  },
  "language_info": {
   "codemirror_mode": {
    "name": "ipython",
    "version": 3
   },
   "file_extension": ".py",
   "mimetype": "text/x-python",
   "name": "python",
   "nbconvert_exporter": "python",
   "pygments_lexer": "ipython3",
   "version": "3.5.2"
  }
 },
 "nbformat": 4,
 "nbformat_minor": 4
}
