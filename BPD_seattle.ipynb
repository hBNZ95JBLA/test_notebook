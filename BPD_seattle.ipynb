{
 "cells": [
  {
   "cell_type": "markdown",
   "metadata": {},
   "source": [
    "# Eploration des données Building Performance Database"
   ]
  },
  {
   "cell_type": "code",
   "execution_count": 1,
   "metadata": {},
   "outputs": [],
   "source": [
    "import pandas as pd\n",
    "df = pd.read_csv(\"seattle_data.csv\", sep=\";\", encoding='iso-8859-1')"
   ]
  },
  {
   "cell_type": "markdown",
   "metadata": {},
   "source": [
    "### Calculs des valeurs centrales et dispersives"
   ]
  },
  {
   "cell_type": "markdown",
   "metadata": {},
   "source": [
    "Les 10 premières valeurs les plus fréquentes de Property Type :"
   ]
  },
  {
   "cell_type": "code",
   "execution_count": 2,
   "metadata": {},
   "outputs": [
    {
     "data": {
      "text/plain": [
       "Multifamily Housing       1656\n",
       "Office                     469\n",
       "Other                      256\n",
       "Refrigerated Warehouse     199\n",
       "K-12 School                139\n",
       "Mixed Use Property         133\n",
       "Retail Store                91\n",
       "Hotel                       77\n",
       "Worship Facility            71\n",
       "Distribution Center         53\n",
       "Name: Property Type, dtype: int64"
      ]
     },
     "execution_count": 2,
     "metadata": {},
     "output_type": "execute_result"
    }
   ],
   "source": [
    "df_pt = df['Property Type'].value_counts()\n",
    "df_pt.head(10)"
   ]
  },
  {
   "cell_type": "markdown",
   "metadata": {},
   "source": [
    "Concernant la surface du bâti :"
   ]
  },
  {
   "cell_type": "code",
   "execution_count": 3,
   "metadata": {},
   "outputs": [
    {
     "data": {
      "text/plain": [
       "84096.21155555555"
      ]
     },
     "execution_count": 3,
     "metadata": {},
     "output_type": "execute_result"
    }
   ],
   "source": [
    "df['Floor Area (ft^2)'].mean()"
   ]
  },
  {
   "cell_type": "code",
   "execution_count": 4,
   "metadata": {},
   "outputs": [
    {
     "data": {
      "text/plain": [
       "43210.0"
      ]
     },
     "execution_count": 4,
     "metadata": {},
     "output_type": "execute_result"
    }
   ],
   "source": [
    "df['Floor Area (ft^2)'].median()"
   ]
  },
  {
   "cell_type": "code",
   "execution_count": 5,
   "metadata": {},
   "outputs": [
    {
     "data": {
      "text/plain": [
       "3636.0"
      ]
     },
     "execution_count": 5,
     "metadata": {},
     "output_type": "execute_result"
    }
   ],
   "source": [
    "df['Floor Area (ft^2)'].min()"
   ]
  },
  {
   "cell_type": "code",
   "execution_count": 6,
   "metadata": {},
   "outputs": [
    {
     "data": {
      "text/plain": [
       "2200000.0"
      ]
     },
     "execution_count": 6,
     "metadata": {},
     "output_type": "execute_result"
    }
   ],
   "source": [
    "df['Floor Area (ft^2)'].max()"
   ]
  },
  {
   "cell_type": "markdown",
   "metadata": {},
   "source": [
    "Concernant l'année de construction du bâti :"
   ]
  },
  {
   "cell_type": "code",
   "execution_count": 7,
   "metadata": {},
   "outputs": [
    {
     "data": {
      "text/plain": [
       "2000    72\n",
       "2014    67\n",
       "1989    67\n",
       "2008    66\n",
       "1988    64\n",
       "1999    64\n",
       "1968    63\n",
       "1990    60\n",
       "2001    60\n",
       "2002    59\n",
       "Name: Year Built, dtype: int64"
      ]
     },
     "execution_count": 7,
     "metadata": {},
     "output_type": "execute_result"
    }
   ],
   "source": [
    "df_yb = df['Year Built'].value_counts()\n",
    "df_yb.head(10)"
   ]
  },
  {
   "cell_type": "code",
   "execution_count": 8,
   "metadata": {},
   "outputs": [
    {
     "data": {
      "text/plain": [
       "1900"
      ]
     },
     "execution_count": 8,
     "metadata": {},
     "output_type": "execute_result"
    }
   ],
   "source": [
    "df['Year Built'].min()"
   ]
  },
  {
   "cell_type": "code",
   "execution_count": 9,
   "metadata": {},
   "outputs": [
    {
     "data": {
      "text/plain": [
       "2015"
      ]
     },
     "execution_count": 9,
     "metadata": {},
     "output_type": "execute_result"
    }
   ],
   "source": [
    "df['Year Built'].max()"
   ]
  },
  {
   "cell_type": "code",
   "execution_count": 10,
   "metadata": {},
   "outputs": [
    {
     "data": {
      "text/plain": [
       "1975.0"
      ]
     },
     "execution_count": 10,
     "metadata": {},
     "output_type": "execute_result"
    }
   ],
   "source": [
    "df['Year Built'].median()"
   ]
  },
  {
   "cell_type": "markdown",
   "metadata": {},
   "source": [
    "Benchmarking Year :"
   ]
  },
  {
   "cell_type": "code",
   "execution_count": 11,
   "metadata": {},
   "outputs": [
    {
     "data": {
      "text/plain": [
       "2016    3376\n",
       "Name: Benchmarking Year, dtype: int64"
      ]
     },
     "execution_count": 11,
     "metadata": {},
     "output_type": "execute_result"
    }
   ],
   "source": [
    "df_by = df['Benchmarking Year'].value_counts()\n",
    "df_by.head(10)"
   ]
  },
  {
   "cell_type": "code",
   "execution_count": 12,
   "metadata": {},
   "outputs": [
    {
     "data": {
      "text/plain": [
       "2016"
      ]
     },
     "execution_count": 12,
     "metadata": {},
     "output_type": "execute_result"
    }
   ],
   "source": [
    "df['Benchmarking Year'].min()"
   ]
  },
  {
   "cell_type": "code",
   "execution_count": 13,
   "metadata": {},
   "outputs": [
    {
     "data": {
      "text/plain": [
       "2016"
      ]
     },
     "execution_count": 13,
     "metadata": {},
     "output_type": "execute_result"
    }
   ],
   "source": [
    "df['Benchmarking Year'].max()"
   ]
  },
  {
   "cell_type": "code",
   "execution_count": 14,
   "metadata": {},
   "outputs": [
    {
     "data": {
      "text/plain": [
       "2016.0"
      ]
     },
     "execution_count": 14,
     "metadata": {},
     "output_type": "execute_result"
    }
   ],
   "source": [
    "df['Benchmarking Year'].median()"
   ]
  },
  {
   "cell_type": "markdown",
   "metadata": {},
   "source": [
    "Concernant l'évaluation de la performance énergétique du bâti :"
   ]
  },
  {
   "cell_type": "code",
   "execution_count": 15,
   "metadata": {
    "scrolled": true
   },
   "outputs": [
    {
     "data": {
      "text/plain": [
       "100.0    109\n",
       "98.0      72\n",
       "96.0      64\n",
       "89.0      58\n",
       "93.0      57\n",
       "92.0      53\n",
       "95.0      51\n",
       "91.0      49\n",
       "94.0      49\n",
       "99.0      49\n",
       "Name: ENERGY STAR Score, dtype: int64"
      ]
     },
     "execution_count": 15,
     "metadata": {},
     "output_type": "execute_result"
    }
   ],
   "source": [
    "df_ess = df['ENERGY STAR Score'].value_counts()\n",
    "df_ess.head(10)"
   ]
  },
  {
   "cell_type": "code",
   "execution_count": 16,
   "metadata": {},
   "outputs": [
    {
     "data": {
      "text/plain": [
       "67.91867350967233"
      ]
     },
     "execution_count": 16,
     "metadata": {},
     "output_type": "execute_result"
    }
   ],
   "source": [
    "df['ENERGY STAR Score'].mean()"
   ]
  },
  {
   "cell_type": "code",
   "execution_count": 17,
   "metadata": {},
   "outputs": [
    {
     "data": {
      "text/plain": [
       "75.0"
      ]
     },
     "execution_count": 17,
     "metadata": {},
     "output_type": "execute_result"
    }
   ],
   "source": [
    "df['ENERGY STAR Score'].median()"
   ]
  },
  {
   "cell_type": "code",
   "execution_count": 18,
   "metadata": {},
   "outputs": [
    {
     "data": {
      "text/html": [
       "<div>\n",
       "<style scoped>\n",
       "    .dataframe tbody tr th:only-of-type {\n",
       "        vertical-align: middle;\n",
       "    }\n",
       "\n",
       "    .dataframe tbody tr th {\n",
       "        vertical-align: top;\n",
       "    }\n",
       "\n",
       "    .dataframe thead th {\n",
       "        text-align: right;\n",
       "    }\n",
       "</style>\n",
       "<table border=\"1\" class=\"dataframe\">\n",
       "  <thead>\n",
       "    <tr style=\"text-align: right;\">\n",
       "      <th></th>\n",
       "      <th>Property Name</th>\n",
       "      <th>Property Type</th>\n",
       "      <th>Address</th>\n",
       "      <th>City</th>\n",
       "      <th>County</th>\n",
       "      <th>State</th>\n",
       "      <th>ZIP Code</th>\n",
       "      <th>Latitude</th>\n",
       "      <th>Longitude</th>\n",
       "      <th>Floor Area (ft^2)</th>\n",
       "      <th>...</th>\n",
       "      <th>Weather Normalized Source EUI (kBtu/ft^2)</th>\n",
       "      <th>Direct GHG Emissions (MtCO2e)</th>\n",
       "      <th>Indirect GHG Emissions (MtCO2e)</th>\n",
       "      <th>Total GHG Emissions (MtCO2e)</th>\n",
       "      <th>Water Use Intensity (gal/ft^2)</th>\n",
       "      <th>ID</th>\n",
       "      <th>Parcel</th>\n",
       "      <th>Number of Buildings</th>\n",
       "      <th>Number of Floors</th>\n",
       "      <th>Years Certified</th>\n",
       "    </tr>\n",
       "  </thead>\n",
       "  <tbody>\n",
       "    <tr>\n",
       "      <th>2</th>\n",
       "      <td>5673-The Westin Seattle</td>\n",
       "      <td>Hotel</td>\n",
       "      <td>1900 5th Avenue</td>\n",
       "      <td>Seattle</td>\n",
       "      <td>King</td>\n",
       "      <td>WA</td>\n",
       "      <td>98101.0</td>\n",
       "      <td>47.61393</td>\n",
       "      <td>-122.33810</td>\n",
       "      <td>759392.0</td>\n",
       "      <td>...</td>\n",
       "      <td>244.100006</td>\n",
       "      <td>NaN</td>\n",
       "      <td>NaN</td>\n",
       "      <td>2089.28</td>\n",
       "      <td>NaN</td>\n",
       "      <td>3</td>\n",
       "      <td>659000475</td>\n",
       "      <td>1.0</td>\n",
       "      <td>41</td>\n",
       "      <td>NaN</td>\n",
       "    </tr>\n",
       "    <tr>\n",
       "      <th>6</th>\n",
       "      <td>Camlin</td>\n",
       "      <td>Hotel</td>\n",
       "      <td>1619 9th Avenue</td>\n",
       "      <td>Seattle</td>\n",
       "      <td>King</td>\n",
       "      <td>WA</td>\n",
       "      <td>98101.0</td>\n",
       "      <td>47.61390</td>\n",
       "      <td>-122.33283</td>\n",
       "      <td>83008.0</td>\n",
       "      <td>...</td>\n",
       "      <td>154.699997</td>\n",
       "      <td>NaN</td>\n",
       "      <td>NaN</td>\n",
       "      <td>176.14</td>\n",
       "      <td>NaN</td>\n",
       "      <td>10</td>\n",
       "      <td>660000825</td>\n",
       "      <td>1.0</td>\n",
       "      <td>11</td>\n",
       "      <td>NaN</td>\n",
       "    </tr>\n",
       "    <tr>\n",
       "      <th>8</th>\n",
       "      <td>311wh-Pioneer Square</td>\n",
       "      <td>Hotel</td>\n",
       "      <td>612 2nd Ave</td>\n",
       "      <td>Seattle</td>\n",
       "      <td>King</td>\n",
       "      <td>WA</td>\n",
       "      <td>98104.0</td>\n",
       "      <td>47.60294</td>\n",
       "      <td>-122.33263</td>\n",
       "      <td>163984.0</td>\n",
       "      <td>...</td>\n",
       "      <td>187.199997</td>\n",
       "      <td>NaN</td>\n",
       "      <td>NaN</td>\n",
       "      <td>392.16</td>\n",
       "      <td>NaN</td>\n",
       "      <td>12</td>\n",
       "      <td>939000080</td>\n",
       "      <td>1.0</td>\n",
       "      <td>15</td>\n",
       "      <td>NaN</td>\n",
       "    </tr>\n",
       "    <tr>\n",
       "      <th>9</th>\n",
       "      <td>Lyon Building</td>\n",
       "      <td>Multifamily Housing</td>\n",
       "      <td>607 - 3rd Ave.</td>\n",
       "      <td>Seattle</td>\n",
       "      <td>King</td>\n",
       "      <td>WA</td>\n",
       "      <td>98104.0</td>\n",
       "      <td>47.60284</td>\n",
       "      <td>-122.33184</td>\n",
       "      <td>62216.0</td>\n",
       "      <td>...</td>\n",
       "      <td>187.399994</td>\n",
       "      <td>NaN</td>\n",
       "      <td>NaN</td>\n",
       "      <td>151.12</td>\n",
       "      <td>NaN</td>\n",
       "      <td>13</td>\n",
       "      <td>939000105</td>\n",
       "      <td>1.0</td>\n",
       "      <td>6</td>\n",
       "      <td>NaN</td>\n",
       "    </tr>\n",
       "    <tr>\n",
       "      <th>10</th>\n",
       "      <td>Hotel Monaco Seattle</td>\n",
       "      <td>Hotel</td>\n",
       "      <td>1101 4th Avenue</td>\n",
       "      <td>Seattle</td>\n",
       "      <td>King</td>\n",
       "      <td>WA</td>\n",
       "      <td>98101.0</td>\n",
       "      <td>47.60695</td>\n",
       "      <td>-122.33414</td>\n",
       "      <td>133884.0</td>\n",
       "      <td>...</td>\n",
       "      <td>233.000000</td>\n",
       "      <td>NaN</td>\n",
       "      <td>NaN</td>\n",
       "      <td>691.26</td>\n",
       "      <td>NaN</td>\n",
       "      <td>15</td>\n",
       "      <td>942000145</td>\n",
       "      <td>1.0</td>\n",
       "      <td>11</td>\n",
       "      <td>NaN</td>\n",
       "    </tr>\n",
       "  </tbody>\n",
       "</table>\n",
       "<p>5 rows × 27 columns</p>\n",
       "</div>"
      ],
      "text/plain": [
       "              Property Name        Property Type          Address     City  \\\n",
       "2   5673-The Westin Seattle                Hotel  1900 5th Avenue  Seattle   \n",
       "6                    Camlin                Hotel  1619 9th Avenue  Seattle   \n",
       "8      311wh-Pioneer Square                Hotel      612 2nd Ave  Seattle   \n",
       "9             Lyon Building  Multifamily Housing   607 - 3rd Ave.  Seattle   \n",
       "10     Hotel Monaco Seattle                Hotel  1101 4th Avenue  Seattle   \n",
       "\n",
       "   County State  ZIP Code  Latitude  Longitude  Floor Area (ft^2)  ...  \\\n",
       "2    King    WA   98101.0  47.61393 -122.33810           759392.0  ...   \n",
       "6    King    WA   98101.0  47.61390 -122.33283            83008.0  ...   \n",
       "8    King    WA   98104.0  47.60294 -122.33263           163984.0  ...   \n",
       "9    King    WA   98104.0  47.60284 -122.33184            62216.0  ...   \n",
       "10   King    WA   98101.0  47.60695 -122.33414           133884.0  ...   \n",
       "\n",
       "    Weather Normalized Source EUI (kBtu/ft^2)  Direct GHG Emissions (MtCO2e)  \\\n",
       "2                                  244.100006                            NaN   \n",
       "6                                  154.699997                            NaN   \n",
       "8                                  187.199997                            NaN   \n",
       "9                                  187.399994                            NaN   \n",
       "10                                 233.000000                            NaN   \n",
       "\n",
       "    Indirect GHG Emissions (MtCO2e)  Total GHG Emissions (MtCO2e)  \\\n",
       "2                               NaN                       2089.28   \n",
       "6                               NaN                        176.14   \n",
       "8                               NaN                        392.16   \n",
       "9                               NaN                        151.12   \n",
       "10                              NaN                        691.26   \n",
       "\n",
       "    Water Use Intensity (gal/ft^2)  ID     Parcel  Number of Buildings  \\\n",
       "2                              NaN   3  659000475                  1.0   \n",
       "6                              NaN  10  660000825                  1.0   \n",
       "8                              NaN  12  939000080                  1.0   \n",
       "9                              NaN  13  939000105                  1.0   \n",
       "10                             NaN  15  942000145                  1.0   \n",
       "\n",
       "    Number of Floors  Years Certified  \n",
       "2                 41              NaN  \n",
       "6                 11              NaN  \n",
       "8                 15              NaN  \n",
       "9                  6              NaN  \n",
       "10                11              NaN  \n",
       "\n",
       "[5 rows x 27 columns]"
      ]
     },
     "execution_count": 18,
     "metadata": {},
     "output_type": "execute_result"
    }
   ],
   "source": [
    "low_esc = df[df['ENERGY STAR Score']<50]\n",
    "low_esc.head(5)"
   ]
  },
  {
   "cell_type": "markdown",
   "metadata": {},
   "source": [
    "Concernant la consommation énergétique du bâti :"
   ]
  },
  {
   "cell_type": "code",
   "execution_count": 19,
   "metadata": {},
   "outputs": [
    {
     "data": {
      "text/plain": [
       "55.025783392587286"
      ]
     },
     "execution_count": 19,
     "metadata": {},
     "output_type": "execute_result"
    }
   ],
   "source": [
    "df['Site EUI (kBtu/ft^2)'].mean()"
   ]
  },
  {
   "cell_type": "code",
   "execution_count": 20,
   "metadata": {},
   "outputs": [
    {
     "data": {
      "text/plain": [
       "38.79999924"
      ]
     },
     "execution_count": 20,
     "metadata": {},
     "output_type": "execute_result"
    }
   ],
   "source": [
    "df['Site EUI (kBtu/ft^2)'].median()"
   ]
  },
  {
   "cell_type": "code",
   "execution_count": 21,
   "metadata": {},
   "outputs": [
    {
     "data": {
      "text/plain": [
       "834.4000244"
      ]
     },
     "execution_count": 21,
     "metadata": {},
     "output_type": "execute_result"
    }
   ],
   "source": [
    "df['Site EUI (kBtu/ft^2)'].max()"
   ]
  },
  {
   "cell_type": "code",
   "execution_count": 22,
   "metadata": {},
   "outputs": [
    {
     "data": {
      "text/plain": [
       "135.1965300733147"
      ]
     },
     "execution_count": 22,
     "metadata": {},
     "output_type": "execute_result"
    }
   ],
   "source": [
    "df['Source EUI (kBtu/ft^2)'].mean()"
   ]
  },
  {
   "cell_type": "code",
   "execution_count": 23,
   "metadata": {},
   "outputs": [
    {
     "data": {
      "text/plain": [
       "2620.0"
      ]
     },
     "execution_count": 23,
     "metadata": {},
     "output_type": "execute_result"
    }
   ],
   "source": [
    "df['Source EUI (kBtu/ft^2)'].max()"
   ]
  },
  {
   "cell_type": "markdown",
   "metadata": {},
   "source": [
    "Weather data :"
   ]
  },
  {
   "cell_type": "code",
   "execution_count": 24,
   "metadata": {},
   "outputs": [
    {
     "data": {
      "text/plain": [
       "57.56298293857472"
      ]
     },
     "execution_count": 24,
     "metadata": {},
     "output_type": "execute_result"
    }
   ],
   "source": [
    "df['Weather Normalized Site EUI (kBtu/ft^2)'].mean()"
   ]
  },
  {
   "cell_type": "code",
   "execution_count": 25,
   "metadata": {},
   "outputs": [
    {
     "data": {
      "text/plain": [
       "834.4000244"
      ]
     },
     "execution_count": 25,
     "metadata": {},
     "output_type": "execute_result"
    }
   ],
   "source": [
    "df['Weather Normalized Site EUI (kBtu/ft^2)'].max()"
   ]
  },
  {
   "cell_type": "code",
   "execution_count": 26,
   "metadata": {},
   "outputs": [
    {
     "data": {
      "text/plain": [
       "139.31549548263183"
      ]
     },
     "execution_count": 26,
     "metadata": {},
     "output_type": "execute_result"
    }
   ],
   "source": [
    "df['Weather Normalized Source EUI (kBtu/ft^2)'].mean()"
   ]
  },
  {
   "cell_type": "code",
   "execution_count": 27,
   "metadata": {},
   "outputs": [
    {
     "data": {
      "text/plain": [
       "2620.0"
      ]
     },
     "execution_count": 27,
     "metadata": {},
     "output_type": "execute_result"
    }
   ],
   "source": [
    "df['Weather Normalized Source EUI (kBtu/ft^2)'].max()"
   ]
  },
  {
   "cell_type": "markdown",
   "metadata": {},
   "source": [
    "Concernant les émission de GES :"
   ]
  },
  {
   "cell_type": "code",
   "execution_count": 28,
   "metadata": {},
   "outputs": [
    {
     "data": {
      "text/plain": [
       "nan"
      ]
     },
     "execution_count": 28,
     "metadata": {},
     "output_type": "execute_result"
    }
   ],
   "source": [
    "df['Direct GHG Emissions (MtCO2e)'].mean()"
   ]
  },
  {
   "cell_type": "code",
   "execution_count": 29,
   "metadata": {},
   "outputs": [
    {
     "data": {
      "text/plain": [
       "nan"
      ]
     },
     "execution_count": 29,
     "metadata": {},
     "output_type": "execute_result"
    }
   ],
   "source": [
    "df['Direct GHG Emissions (MtCO2e)'].max()"
   ]
  },
  {
   "cell_type": "code",
   "execution_count": 30,
   "metadata": {},
   "outputs": [
    {
     "data": {
      "text/plain": [
       "nan"
      ]
     },
     "execution_count": 30,
     "metadata": {},
     "output_type": "execute_result"
    }
   ],
   "source": [
    "df['Indirect GHG Emissions (MtCO2e)'].mean()"
   ]
  },
  {
   "cell_type": "code",
   "execution_count": 31,
   "metadata": {},
   "outputs": [
    {
     "data": {
      "text/plain": [
       "nan"
      ]
     },
     "execution_count": 31,
     "metadata": {},
     "output_type": "execute_result"
    }
   ],
   "source": [
    "df['Indirect GHG Emissions (MtCO2e)'].max()"
   ]
  },
  {
   "cell_type": "code",
   "execution_count": 32,
   "metadata": {},
   "outputs": [
    {
     "data": {
      "text/plain": [
       "119.65245468053492"
      ]
     },
     "execution_count": 32,
     "metadata": {},
     "output_type": "execute_result"
    }
   ],
   "source": [
    "df['Total GHG Emissions (MtCO2e)'].mean()"
   ]
  },
  {
   "cell_type": "code",
   "execution_count": 33,
   "metadata": {},
   "outputs": [
    {
     "data": {
      "text/plain": [
       "16870.98"
      ]
     },
     "execution_count": 33,
     "metadata": {},
     "output_type": "execute_result"
    }
   ],
   "source": [
    "df['Total GHG Emissions (MtCO2e)'].max()"
   ]
  },
  {
   "cell_type": "markdown",
   "metadata": {},
   "source": [
    "Concernant la consommation en eau du bâti :"
   ]
  },
  {
   "cell_type": "code",
   "execution_count": 34,
   "metadata": {},
   "outputs": [
    {
     "data": {
      "text/plain": [
       "nan"
      ]
     },
     "execution_count": 34,
     "metadata": {},
     "output_type": "execute_result"
    }
   ],
   "source": [
    "df['Water Use Intensity (gal/ft^2)'].mean()"
   ]
  },
  {
   "cell_type": "code",
   "execution_count": 35,
   "metadata": {},
   "outputs": [
    {
     "data": {
      "text/plain": [
       "nan"
      ]
     },
     "execution_count": 35,
     "metadata": {},
     "output_type": "execute_result"
    }
   ],
   "source": [
    "df['Water Use Intensity (gal/ft^2)'].max()"
   ]
  },
  {
   "cell_type": "markdown",
   "metadata": {},
   "source": [
    "#### On filtre les valeurs 'Multifamily Housing' pour se concentrer sur les quartiers résidentiels d'habitat collectif :"
   ]
  },
  {
   "cell_type": "code",
   "execution_count": 36,
   "metadata": {},
   "outputs": [
    {
     "data": {
      "text/plain": [
       "37.26178075699697"
      ]
     },
     "execution_count": 36,
     "metadata": {},
     "output_type": "execute_result"
    }
   ],
   "source": [
    "df_mfh = df[df['Property Type'] == 'Multifamily Housing']\n",
    "df_mfh['Site EUI (kBtu/ft^2)'].mean()"
   ]
  },
  {
   "cell_type": "markdown",
   "metadata": {},
   "source": [
    "Parmi les bâtiments d'habitat collectif, on recherche les bâtiments consommant le plus d'énergie :"
   ]
  },
  {
   "cell_type": "code",
   "execution_count": 55,
   "metadata": {},
   "outputs": [
    {
     "data": {
      "text/html": [
       "<div>\n",
       "<style scoped>\n",
       "    .dataframe tbody tr th:only-of-type {\n",
       "        vertical-align: middle;\n",
       "    }\n",
       "\n",
       "    .dataframe tbody tr th {\n",
       "        vertical-align: top;\n",
       "    }\n",
       "\n",
       "    .dataframe thead th {\n",
       "        text-align: right;\n",
       "    }\n",
       "</style>\n",
       "<table border=\"1\" class=\"dataframe\">\n",
       "  <thead>\n",
       "    <tr style=\"text-align: right;\">\n",
       "      <th></th>\n",
       "      <th>Property Name</th>\n",
       "      <th>Number of Buildings</th>\n",
       "      <th>Number of Floors</th>\n",
       "      <th>Floor Area (ft^2)</th>\n",
       "      <th>Year Built</th>\n",
       "      <th>ENERGY STAR Score</th>\n",
       "      <th>Site EUI (kBtu/ft^2)</th>\n",
       "      <th>Source EUI (kBtu/ft^2)</th>\n",
       "      <th>Total GHG Emissions (MtCO2e)</th>\n",
       "    </tr>\n",
       "  </thead>\n",
       "  <tbody>\n",
       "    <tr>\n",
       "      <th>1706</th>\n",
       "      <td>Taylor Anne Condominium</td>\n",
       "      <td>1.0</td>\n",
       "      <td>5</td>\n",
       "      <td>30569.0</td>\n",
       "      <td>1969</td>\n",
       "      <td>1.0</td>\n",
       "      <td>221.000000</td>\n",
       "      <td>684.299988</td>\n",
       "      <td>54.25</td>\n",
       "    </tr>\n",
       "    <tr>\n",
       "      <th>3092</th>\n",
       "      <td>Commodore Duchess Apartments</td>\n",
       "      <td>1.0</td>\n",
       "      <td>8</td>\n",
       "      <td>97923.0</td>\n",
       "      <td>1925</td>\n",
       "      <td>5.0</td>\n",
       "      <td>147.500000</td>\n",
       "      <td>220.600006</td>\n",
       "      <td>686.53</td>\n",
       "    </tr>\n",
       "    <tr>\n",
       "      <th>3265</th>\n",
       "      <td>Stewart House</td>\n",
       "      <td>1.0</td>\n",
       "      <td>3</td>\n",
       "      <td>49000.0</td>\n",
       "      <td>1904</td>\n",
       "      <td>NaN</td>\n",
       "      <td>136.699997</td>\n",
       "      <td>366.799988</td>\n",
       "      <td>78.39</td>\n",
       "    </tr>\n",
       "    <tr>\n",
       "      <th>2763</th>\n",
       "      <td>Atlas Building</td>\n",
       "      <td>1.0</td>\n",
       "      <td>4</td>\n",
       "      <td>46560.0</td>\n",
       "      <td>1920</td>\n",
       "      <td>NaN</td>\n",
       "      <td>133.500000</td>\n",
       "      <td>211.300003</td>\n",
       "      <td>284.42</td>\n",
       "    </tr>\n",
       "    <tr>\n",
       "      <th>3082</th>\n",
       "      <td>Building 4</td>\n",
       "      <td>1.0</td>\n",
       "      <td>4</td>\n",
       "      <td>46725.0</td>\n",
       "      <td>2008</td>\n",
       "      <td>1.0</td>\n",
       "      <td>131.300003</td>\n",
       "      <td>218.600006</td>\n",
       "      <td>531.96</td>\n",
       "    </tr>\n",
       "    <tr>\n",
       "      <th>1139</th>\n",
       "      <td>Plymouth on Stewart</td>\n",
       "      <td>1.0</td>\n",
       "      <td>8</td>\n",
       "      <td>55882.0</td>\n",
       "      <td>1909</td>\n",
       "      <td>NaN</td>\n",
       "      <td>127.099999</td>\n",
       "      <td>203.500000</td>\n",
       "      <td>264.43</td>\n",
       "    </tr>\n",
       "    <tr>\n",
       "      <th>3151</th>\n",
       "      <td>Hong Kong Building</td>\n",
       "      <td>1.0</td>\n",
       "      <td>5</td>\n",
       "      <td>30993.0</td>\n",
       "      <td>1927</td>\n",
       "      <td>NaN</td>\n",
       "      <td>126.400001</td>\n",
       "      <td>221.399994</td>\n",
       "      <td>155.47</td>\n",
       "    </tr>\n",
       "    <tr>\n",
       "      <th>1247</th>\n",
       "      <td>SUMMIT AT FIRST HILL (ID#21344)</td>\n",
       "      <td>1.0</td>\n",
       "      <td>13</td>\n",
       "      <td>207022.0</td>\n",
       "      <td>2000</td>\n",
       "      <td>1.0</td>\n",
       "      <td>123.500000</td>\n",
       "      <td>223.699997</td>\n",
       "      <td>709.11</td>\n",
       "    </tr>\n",
       "    <tr>\n",
       "      <th>2863</th>\n",
       "      <td>St. Johns Apartments</td>\n",
       "      <td>1.0</td>\n",
       "      <td>3</td>\n",
       "      <td>24682.0</td>\n",
       "      <td>1910</td>\n",
       "      <td>74.0</td>\n",
       "      <td>112.199997</td>\n",
       "      <td>205.399994</td>\n",
       "      <td>96.18</td>\n",
       "    </tr>\n",
       "    <tr>\n",
       "      <th>3085</th>\n",
       "      <td>The Morrison</td>\n",
       "      <td>1.0</td>\n",
       "      <td>7</td>\n",
       "      <td>159840.0</td>\n",
       "      <td>1908</td>\n",
       "      <td>1.0</td>\n",
       "      <td>109.699997</td>\n",
       "      <td>235.699997</td>\n",
       "      <td>402.04</td>\n",
       "    </tr>\n",
       "    <tr>\n",
       "      <th>1237</th>\n",
       "      <td>TEN TWENTY</td>\n",
       "      <td>1.0</td>\n",
       "      <td>5</td>\n",
       "      <td>39895.0</td>\n",
       "      <td>1962</td>\n",
       "      <td>26.0</td>\n",
       "      <td>108.599999</td>\n",
       "      <td>148.699997</td>\n",
       "      <td>159.98</td>\n",
       "    </tr>\n",
       "    <tr>\n",
       "      <th>2257</th>\n",
       "      <td>(ID25004) PENN HALL</td>\n",
       "      <td>1.0</td>\n",
       "      <td>3</td>\n",
       "      <td>20809.0</td>\n",
       "      <td>1926</td>\n",
       "      <td>17.0</td>\n",
       "      <td>108.300003</td>\n",
       "      <td>142.699997</td>\n",
       "      <td>17.75</td>\n",
       "    </tr>\n",
       "    <tr>\n",
       "      <th>2922</th>\n",
       "      <td>Vali Hai</td>\n",
       "      <td>2.0</td>\n",
       "      <td>4</td>\n",
       "      <td>43346.0</td>\n",
       "      <td>1959</td>\n",
       "      <td>5.0</td>\n",
       "      <td>104.300003</td>\n",
       "      <td>205.600006</td>\n",
       "      <td>148.02</td>\n",
       "    </tr>\n",
       "    <tr>\n",
       "      <th>2730</th>\n",
       "      <td>Lakeside West</td>\n",
       "      <td>1.0</td>\n",
       "      <td>6</td>\n",
       "      <td>80539.0</td>\n",
       "      <td>1961</td>\n",
       "      <td>22.0</td>\n",
       "      <td>102.199997</td>\n",
       "      <td>148.800003</td>\n",
       "      <td>299.38</td>\n",
       "    </tr>\n",
       "    <tr>\n",
       "      <th>1893</th>\n",
       "      <td>Domaine</td>\n",
       "      <td>1.0</td>\n",
       "      <td>6</td>\n",
       "      <td>56035.0</td>\n",
       "      <td>2006</td>\n",
       "      <td>4.0</td>\n",
       "      <td>101.300003</td>\n",
       "      <td>258.000000</td>\n",
       "      <td>80.06</td>\n",
       "    </tr>\n",
       "    <tr>\n",
       "      <th>1740</th>\n",
       "      <td>Frederic Ozanam House</td>\n",
       "      <td>1.0</td>\n",
       "      <td>6</td>\n",
       "      <td>32489.0</td>\n",
       "      <td>2009</td>\n",
       "      <td>18.0</td>\n",
       "      <td>99.500000</td>\n",
       "      <td>236.699997</td>\n",
       "      <td>48.08</td>\n",
       "    </tr>\n",
       "    <tr>\n",
       "      <th>1156</th>\n",
       "      <td>John Winthrop Apartments</td>\n",
       "      <td>1.0</td>\n",
       "      <td>5</td>\n",
       "      <td>52620.0</td>\n",
       "      <td>1925</td>\n",
       "      <td>28.0</td>\n",
       "      <td>99.400002</td>\n",
       "      <td>157.800003</td>\n",
       "      <td>188.58</td>\n",
       "    </tr>\n",
       "    <tr>\n",
       "      <th>794</th>\n",
       "      <td>Lexington/Concord Appartments</td>\n",
       "      <td>1.0</td>\n",
       "      <td>3</td>\n",
       "      <td>33440.0</td>\n",
       "      <td>1923</td>\n",
       "      <td>38.0</td>\n",
       "      <td>98.400002</td>\n",
       "      <td>130.100006</td>\n",
       "      <td>154.89</td>\n",
       "    </tr>\n",
       "    <tr>\n",
       "      <th>1148</th>\n",
       "      <td>Simons Senior Apartments</td>\n",
       "      <td>1.0</td>\n",
       "      <td>6</td>\n",
       "      <td>96980.0</td>\n",
       "      <td>2007</td>\n",
       "      <td>1.0</td>\n",
       "      <td>97.800003</td>\n",
       "      <td>187.300003</td>\n",
       "      <td>221.10</td>\n",
       "    </tr>\n",
       "    <tr>\n",
       "      <th>865</th>\n",
       "      <td>Trailside Apts 4701 &amp; 4708 (ID20059)</td>\n",
       "      <td>1.0</td>\n",
       "      <td>3</td>\n",
       "      <td>26157.0</td>\n",
       "      <td>1959</td>\n",
       "      <td>1.0</td>\n",
       "      <td>96.900002</td>\n",
       "      <td>304.299988</td>\n",
       "      <td>17.67</td>\n",
       "    </tr>\n",
       "  </tbody>\n",
       "</table>\n",
       "</div>"
      ],
      "text/plain": [
       "                             Property Name  Number of Buildings  \\\n",
       "1706               Taylor Anne Condominium                  1.0   \n",
       "3092          Commodore Duchess Apartments                  1.0   \n",
       "3265                         Stewart House                  1.0   \n",
       "2763                        Atlas Building                  1.0   \n",
       "3082                            Building 4                  1.0   \n",
       "1139                   Plymouth on Stewart                  1.0   \n",
       "3151                    Hong Kong Building                  1.0   \n",
       "1247       SUMMIT AT FIRST HILL (ID#21344)                  1.0   \n",
       "2863                  St. Johns Apartments                  1.0   \n",
       "3085                          The Morrison                  1.0   \n",
       "1237                            TEN TWENTY                  1.0   \n",
       "2257                   (ID25004) PENN HALL                  1.0   \n",
       "2922                              Vali Hai                  2.0   \n",
       "2730                         Lakeside West                  1.0   \n",
       "1893                               Domaine                  1.0   \n",
       "1740                 Frederic Ozanam House                  1.0   \n",
       "1156              John Winthrop Apartments                  1.0   \n",
       "794          Lexington/Concord Appartments                  1.0   \n",
       "1148              Simons Senior Apartments                  1.0   \n",
       "865   Trailside Apts 4701 & 4708 (ID20059)                  1.0   \n",
       "\n",
       "      Number of Floors  Floor Area (ft^2)  Year Built  ENERGY STAR Score  \\\n",
       "1706                 5            30569.0        1969                1.0   \n",
       "3092                 8            97923.0        1925                5.0   \n",
       "3265                 3            49000.0        1904                NaN   \n",
       "2763                 4            46560.0        1920                NaN   \n",
       "3082                 4            46725.0        2008                1.0   \n",
       "1139                 8            55882.0        1909                NaN   \n",
       "3151                 5            30993.0        1927                NaN   \n",
       "1247                13           207022.0        2000                1.0   \n",
       "2863                 3            24682.0        1910               74.0   \n",
       "3085                 7           159840.0        1908                1.0   \n",
       "1237                 5            39895.0        1962               26.0   \n",
       "2257                 3            20809.0        1926               17.0   \n",
       "2922                 4            43346.0        1959                5.0   \n",
       "2730                 6            80539.0        1961               22.0   \n",
       "1893                 6            56035.0        2006                4.0   \n",
       "1740                 6            32489.0        2009               18.0   \n",
       "1156                 5            52620.0        1925               28.0   \n",
       "794                  3            33440.0        1923               38.0   \n",
       "1148                 6            96980.0        2007                1.0   \n",
       "865                  3            26157.0        1959                1.0   \n",
       "\n",
       "      Site EUI (kBtu/ft^2)  Source EUI (kBtu/ft^2)  \\\n",
       "1706            221.000000              684.299988   \n",
       "3092            147.500000              220.600006   \n",
       "3265            136.699997              366.799988   \n",
       "2763            133.500000              211.300003   \n",
       "3082            131.300003              218.600006   \n",
       "1139            127.099999              203.500000   \n",
       "3151            126.400001              221.399994   \n",
       "1247            123.500000              223.699997   \n",
       "2863            112.199997              205.399994   \n",
       "3085            109.699997              235.699997   \n",
       "1237            108.599999              148.699997   \n",
       "2257            108.300003              142.699997   \n",
       "2922            104.300003              205.600006   \n",
       "2730            102.199997              148.800003   \n",
       "1893            101.300003              258.000000   \n",
       "1740             99.500000              236.699997   \n",
       "1156             99.400002              157.800003   \n",
       "794              98.400002              130.100006   \n",
       "1148             97.800003              187.300003   \n",
       "865              96.900002              304.299988   \n",
       "\n",
       "      Total GHG Emissions (MtCO2e)  \n",
       "1706                         54.25  \n",
       "3092                        686.53  \n",
       "3265                         78.39  \n",
       "2763                        284.42  \n",
       "3082                        531.96  \n",
       "1139                        264.43  \n",
       "3151                        155.47  \n",
       "1247                        709.11  \n",
       "2863                         96.18  \n",
       "3085                        402.04  \n",
       "1237                        159.98  \n",
       "2257                         17.75  \n",
       "2922                        148.02  \n",
       "2730                        299.38  \n",
       "1893                         80.06  \n",
       "1740                         48.08  \n",
       "1156                        188.58  \n",
       "794                         154.89  \n",
       "1148                        221.10  \n",
       "865                          17.67  "
      ]
     },
     "execution_count": 55,
     "metadata": {},
     "output_type": "execute_result"
    }
   ],
   "source": [
    "filtre = df_mfh.sort_values(by=['Site EUI (kBtu/ft^2)'], ascending=False)\n",
    "f_bis = filtre[['Property Name', 'Number of Buildings', 'Number of Floors', 'Floor Area (ft^2)', 'Year Built', 'ENERGY STAR Score', 'Site EUI (kBtu/ft^2)', 'Source EUI (kBtu/ft^2)', 'Total GHG Emissions (MtCO2e)']]\n",
    "f_bis.head(20)"
   ]
  },
  {
   "cell_type": "markdown",
   "metadata": {},
   "source": [
    "On peut constater parmi ces 20 résultats le faible taux de l'évaluation de la performance énergétique (ENERGY STAR Score) et que la moitié des bâtiments retenus a été construite avant 1950. On s'interroge ainsi sur un éventuel lien entre forte consommation énergétique et année de construction :"
   ]
  },
  {
   "cell_type": "markdown",
   "metadata": {},
   "source": [
    "Parmi la liste de bâtiments obtenus, on liste les bâtiments les moins performants énergétiquement :"
   ]
  },
  {
   "cell_type": "code",
   "execution_count": 57,
   "metadata": {},
   "outputs": [
    {
     "data": {
      "text/html": [
       "<div>\n",
       "<style scoped>\n",
       "    .dataframe tbody tr th:only-of-type {\n",
       "        vertical-align: middle;\n",
       "    }\n",
       "\n",
       "    .dataframe tbody tr th {\n",
       "        vertical-align: top;\n",
       "    }\n",
       "\n",
       "    .dataframe thead th {\n",
       "        text-align: right;\n",
       "    }\n",
       "</style>\n",
       "<table border=\"1\" class=\"dataframe\">\n",
       "  <thead>\n",
       "    <tr style=\"text-align: right;\">\n",
       "      <th></th>\n",
       "      <th>Property Name</th>\n",
       "      <th>Number of Buildings</th>\n",
       "      <th>Number of Floors</th>\n",
       "      <th>Floor Area (ft^2)</th>\n",
       "      <th>Year Built</th>\n",
       "      <th>ENERGY STAR Score</th>\n",
       "      <th>Site EUI (kBtu/ft^2)</th>\n",
       "      <th>Source EUI (kBtu/ft^2)</th>\n",
       "      <th>Total GHG Emissions (MtCO2e)</th>\n",
       "    </tr>\n",
       "  </thead>\n",
       "  <tbody>\n",
       "    <tr>\n",
       "      <th>1706</th>\n",
       "      <td>Taylor Anne Condominium</td>\n",
       "      <td>1.0</td>\n",
       "      <td>5</td>\n",
       "      <td>30569.0</td>\n",
       "      <td>1969</td>\n",
       "      <td>1.0</td>\n",
       "      <td>221.000000</td>\n",
       "      <td>684.299988</td>\n",
       "      <td>54.25</td>\n",
       "    </tr>\n",
       "    <tr>\n",
       "      <th>3082</th>\n",
       "      <td>Building 4</td>\n",
       "      <td>1.0</td>\n",
       "      <td>4</td>\n",
       "      <td>46725.0</td>\n",
       "      <td>2008</td>\n",
       "      <td>1.0</td>\n",
       "      <td>131.300003</td>\n",
       "      <td>218.600006</td>\n",
       "      <td>531.96</td>\n",
       "    </tr>\n",
       "    <tr>\n",
       "      <th>1247</th>\n",
       "      <td>SUMMIT AT FIRST HILL (ID#21344)</td>\n",
       "      <td>1.0</td>\n",
       "      <td>13</td>\n",
       "      <td>207022.0</td>\n",
       "      <td>2000</td>\n",
       "      <td>1.0</td>\n",
       "      <td>123.500000</td>\n",
       "      <td>223.699997</td>\n",
       "      <td>709.11</td>\n",
       "    </tr>\n",
       "    <tr>\n",
       "      <th>3085</th>\n",
       "      <td>The Morrison</td>\n",
       "      <td>1.0</td>\n",
       "      <td>7</td>\n",
       "      <td>159840.0</td>\n",
       "      <td>1908</td>\n",
       "      <td>1.0</td>\n",
       "      <td>109.699997</td>\n",
       "      <td>235.699997</td>\n",
       "      <td>402.04</td>\n",
       "    </tr>\n",
       "    <tr>\n",
       "      <th>1148</th>\n",
       "      <td>Simons Senior Apartments</td>\n",
       "      <td>1.0</td>\n",
       "      <td>6</td>\n",
       "      <td>96980.0</td>\n",
       "      <td>2007</td>\n",
       "      <td>1.0</td>\n",
       "      <td>97.800003</td>\n",
       "      <td>187.300003</td>\n",
       "      <td>221.10</td>\n",
       "    </tr>\n",
       "    <tr>\n",
       "      <th>865</th>\n",
       "      <td>Trailside Apts 4701 &amp; 4708 (ID20059)</td>\n",
       "      <td>1.0</td>\n",
       "      <td>3</td>\n",
       "      <td>26157.0</td>\n",
       "      <td>1959</td>\n",
       "      <td>1.0</td>\n",
       "      <td>96.900002</td>\n",
       "      <td>304.299988</td>\n",
       "      <td>17.67</td>\n",
       "    </tr>\n",
       "    <tr>\n",
       "      <th>1893</th>\n",
       "      <td>Domaine</td>\n",
       "      <td>1.0</td>\n",
       "      <td>6</td>\n",
       "      <td>56035.0</td>\n",
       "      <td>2006</td>\n",
       "      <td>4.0</td>\n",
       "      <td>101.300003</td>\n",
       "      <td>258.000000</td>\n",
       "      <td>80.06</td>\n",
       "    </tr>\n",
       "    <tr>\n",
       "      <th>3092</th>\n",
       "      <td>Commodore Duchess Apartments</td>\n",
       "      <td>1.0</td>\n",
       "      <td>8</td>\n",
       "      <td>97923.0</td>\n",
       "      <td>1925</td>\n",
       "      <td>5.0</td>\n",
       "      <td>147.500000</td>\n",
       "      <td>220.600006</td>\n",
       "      <td>686.53</td>\n",
       "    </tr>\n",
       "    <tr>\n",
       "      <th>2922</th>\n",
       "      <td>Vali Hai</td>\n",
       "      <td>2.0</td>\n",
       "      <td>4</td>\n",
       "      <td>43346.0</td>\n",
       "      <td>1959</td>\n",
       "      <td>5.0</td>\n",
       "      <td>104.300003</td>\n",
       "      <td>205.600006</td>\n",
       "      <td>148.02</td>\n",
       "    </tr>\n",
       "    <tr>\n",
       "      <th>2257</th>\n",
       "      <td>(ID25004) PENN HALL</td>\n",
       "      <td>1.0</td>\n",
       "      <td>3</td>\n",
       "      <td>20809.0</td>\n",
       "      <td>1926</td>\n",
       "      <td>17.0</td>\n",
       "      <td>108.300003</td>\n",
       "      <td>142.699997</td>\n",
       "      <td>17.75</td>\n",
       "    </tr>\n",
       "    <tr>\n",
       "      <th>1740</th>\n",
       "      <td>Frederic Ozanam House</td>\n",
       "      <td>1.0</td>\n",
       "      <td>6</td>\n",
       "      <td>32489.0</td>\n",
       "      <td>2009</td>\n",
       "      <td>18.0</td>\n",
       "      <td>99.500000</td>\n",
       "      <td>236.699997</td>\n",
       "      <td>48.08</td>\n",
       "    </tr>\n",
       "    <tr>\n",
       "      <th>2730</th>\n",
       "      <td>Lakeside West</td>\n",
       "      <td>1.0</td>\n",
       "      <td>6</td>\n",
       "      <td>80539.0</td>\n",
       "      <td>1961</td>\n",
       "      <td>22.0</td>\n",
       "      <td>102.199997</td>\n",
       "      <td>148.800003</td>\n",
       "      <td>299.38</td>\n",
       "    </tr>\n",
       "    <tr>\n",
       "      <th>1237</th>\n",
       "      <td>TEN TWENTY</td>\n",
       "      <td>1.0</td>\n",
       "      <td>5</td>\n",
       "      <td>39895.0</td>\n",
       "      <td>1962</td>\n",
       "      <td>26.0</td>\n",
       "      <td>108.599999</td>\n",
       "      <td>148.699997</td>\n",
       "      <td>159.98</td>\n",
       "    </tr>\n",
       "    <tr>\n",
       "      <th>1156</th>\n",
       "      <td>John Winthrop Apartments</td>\n",
       "      <td>1.0</td>\n",
       "      <td>5</td>\n",
       "      <td>52620.0</td>\n",
       "      <td>1925</td>\n",
       "      <td>28.0</td>\n",
       "      <td>99.400002</td>\n",
       "      <td>157.800003</td>\n",
       "      <td>188.58</td>\n",
       "    </tr>\n",
       "    <tr>\n",
       "      <th>794</th>\n",
       "      <td>Lexington/Concord Appartments</td>\n",
       "      <td>1.0</td>\n",
       "      <td>3</td>\n",
       "      <td>33440.0</td>\n",
       "      <td>1923</td>\n",
       "      <td>38.0</td>\n",
       "      <td>98.400002</td>\n",
       "      <td>130.100006</td>\n",
       "      <td>154.89</td>\n",
       "    </tr>\n",
       "    <tr>\n",
       "      <th>2863</th>\n",
       "      <td>St. Johns Apartments</td>\n",
       "      <td>1.0</td>\n",
       "      <td>3</td>\n",
       "      <td>24682.0</td>\n",
       "      <td>1910</td>\n",
       "      <td>74.0</td>\n",
       "      <td>112.199997</td>\n",
       "      <td>205.399994</td>\n",
       "      <td>96.18</td>\n",
       "    </tr>\n",
       "    <tr>\n",
       "      <th>3265</th>\n",
       "      <td>Stewart House</td>\n",
       "      <td>1.0</td>\n",
       "      <td>3</td>\n",
       "      <td>49000.0</td>\n",
       "      <td>1904</td>\n",
       "      <td>NaN</td>\n",
       "      <td>136.699997</td>\n",
       "      <td>366.799988</td>\n",
       "      <td>78.39</td>\n",
       "    </tr>\n",
       "    <tr>\n",
       "      <th>2763</th>\n",
       "      <td>Atlas Building</td>\n",
       "      <td>1.0</td>\n",
       "      <td>4</td>\n",
       "      <td>46560.0</td>\n",
       "      <td>1920</td>\n",
       "      <td>NaN</td>\n",
       "      <td>133.500000</td>\n",
       "      <td>211.300003</td>\n",
       "      <td>284.42</td>\n",
       "    </tr>\n",
       "    <tr>\n",
       "      <th>1139</th>\n",
       "      <td>Plymouth on Stewart</td>\n",
       "      <td>1.0</td>\n",
       "      <td>8</td>\n",
       "      <td>55882.0</td>\n",
       "      <td>1909</td>\n",
       "      <td>NaN</td>\n",
       "      <td>127.099999</td>\n",
       "      <td>203.500000</td>\n",
       "      <td>264.43</td>\n",
       "    </tr>\n",
       "    <tr>\n",
       "      <th>3151</th>\n",
       "      <td>Hong Kong Building</td>\n",
       "      <td>1.0</td>\n",
       "      <td>5</td>\n",
       "      <td>30993.0</td>\n",
       "      <td>1927</td>\n",
       "      <td>NaN</td>\n",
       "      <td>126.400001</td>\n",
       "      <td>221.399994</td>\n",
       "      <td>155.47</td>\n",
       "    </tr>\n",
       "  </tbody>\n",
       "</table>\n",
       "</div>"
      ],
      "text/plain": [
       "                             Property Name  Number of Buildings  \\\n",
       "1706               Taylor Anne Condominium                  1.0   \n",
       "3082                            Building 4                  1.0   \n",
       "1247       SUMMIT AT FIRST HILL (ID#21344)                  1.0   \n",
       "3085                          The Morrison                  1.0   \n",
       "1148              Simons Senior Apartments                  1.0   \n",
       "865   Trailside Apts 4701 & 4708 (ID20059)                  1.0   \n",
       "1893                               Domaine                  1.0   \n",
       "3092          Commodore Duchess Apartments                  1.0   \n",
       "2922                              Vali Hai                  2.0   \n",
       "2257                   (ID25004) PENN HALL                  1.0   \n",
       "1740                 Frederic Ozanam House                  1.0   \n",
       "2730                         Lakeside West                  1.0   \n",
       "1237                            TEN TWENTY                  1.0   \n",
       "1156              John Winthrop Apartments                  1.0   \n",
       "794          Lexington/Concord Appartments                  1.0   \n",
       "2863                  St. Johns Apartments                  1.0   \n",
       "3265                         Stewart House                  1.0   \n",
       "2763                        Atlas Building                  1.0   \n",
       "1139                   Plymouth on Stewart                  1.0   \n",
       "3151                    Hong Kong Building                  1.0   \n",
       "\n",
       "      Number of Floors  Floor Area (ft^2)  Year Built  ENERGY STAR Score  \\\n",
       "1706                 5            30569.0        1969                1.0   \n",
       "3082                 4            46725.0        2008                1.0   \n",
       "1247                13           207022.0        2000                1.0   \n",
       "3085                 7           159840.0        1908                1.0   \n",
       "1148                 6            96980.0        2007                1.0   \n",
       "865                  3            26157.0        1959                1.0   \n",
       "1893                 6            56035.0        2006                4.0   \n",
       "3092                 8            97923.0        1925                5.0   \n",
       "2922                 4            43346.0        1959                5.0   \n",
       "2257                 3            20809.0        1926               17.0   \n",
       "1740                 6            32489.0        2009               18.0   \n",
       "2730                 6            80539.0        1961               22.0   \n",
       "1237                 5            39895.0        1962               26.0   \n",
       "1156                 5            52620.0        1925               28.0   \n",
       "794                  3            33440.0        1923               38.0   \n",
       "2863                 3            24682.0        1910               74.0   \n",
       "3265                 3            49000.0        1904                NaN   \n",
       "2763                 4            46560.0        1920                NaN   \n",
       "1139                 8            55882.0        1909                NaN   \n",
       "3151                 5            30993.0        1927                NaN   \n",
       "\n",
       "      Site EUI (kBtu/ft^2)  Source EUI (kBtu/ft^2)  \\\n",
       "1706            221.000000              684.299988   \n",
       "3082            131.300003              218.600006   \n",
       "1247            123.500000              223.699997   \n",
       "3085            109.699997              235.699997   \n",
       "1148             97.800003              187.300003   \n",
       "865              96.900002              304.299988   \n",
       "1893            101.300003              258.000000   \n",
       "3092            147.500000              220.600006   \n",
       "2922            104.300003              205.600006   \n",
       "2257            108.300003              142.699997   \n",
       "1740             99.500000              236.699997   \n",
       "2730            102.199997              148.800003   \n",
       "1237            108.599999              148.699997   \n",
       "1156             99.400002              157.800003   \n",
       "794              98.400002              130.100006   \n",
       "2863            112.199997              205.399994   \n",
       "3265            136.699997              366.799988   \n",
       "2763            133.500000              211.300003   \n",
       "1139            127.099999              203.500000   \n",
       "3151            126.400001              221.399994   \n",
       "\n",
       "      Total GHG Emissions (MtCO2e)  \n",
       "1706                         54.25  \n",
       "3082                        531.96  \n",
       "1247                        709.11  \n",
       "3085                        402.04  \n",
       "1148                        221.10  \n",
       "865                          17.67  \n",
       "1893                         80.06  \n",
       "3092                        686.53  \n",
       "2922                        148.02  \n",
       "2257                         17.75  \n",
       "1740                         48.08  \n",
       "2730                        299.38  \n",
       "1237                        159.98  \n",
       "1156                        188.58  \n",
       "794                         154.89  \n",
       "2863                         96.18  \n",
       "3265                         78.39  \n",
       "2763                        284.42  \n",
       "1139                        264.43  \n",
       "3151                        155.47  "
      ]
     },
     "execution_count": 57,
     "metadata": {},
     "output_type": "execute_result"
    }
   ],
   "source": [
    "f_ter = f_bis.head(20)\n",
    "f_ter.sort_values(by=['ENERGY STAR Score'], ascending=True)"
   ]
  },
  {
   "cell_type": "markdown",
   "metadata": {},
   "source": [
    "Comme on peut le constater, il semble qu'il n'y ait pas de corrélation entre l'année de construction du bâti et sa performance énergétique."
   ]
  }
 ],
 "metadata": {
  "kernelspec": {
   "display_name": "Python 3",
   "language": "python",
   "name": "python3"
  },
  "language_info": {
   "codemirror_mode": {
    "name": "ipython",
    "version": 3
   },
   "file_extension": ".py",
   "mimetype": "text/x-python",
   "name": "python",
   "nbconvert_exporter": "python",
   "pygments_lexer": "ipython3",
   "version": "3.5.2"
  }
 },
 "nbformat": 4,
 "nbformat_minor": 4
}
